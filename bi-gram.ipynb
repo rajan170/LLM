{
 "cells": [
  {
   "cell_type": "code",
   "execution_count": 37,
   "id": "b1ab4933",
   "metadata": {},
   "outputs": [
    {
     "name": "stdout",
     "output_type": "stream",
     "text": [
      "cuda\n"
     ]
    }
   ],
   "source": [
    "import torch\n",
    "import torch.nn\n",
    "from torch.nn import functional as F\n",
    "\n",
    "device = 'cuda' if torch.cuda.is_available() else 'cpu'\n",
    "print(device)"
   ]
  },
  {
   "cell_type": "code",
   "execution_count": 19,
   "id": "54b8b0cd",
   "metadata": {},
   "outputs": [],
   "source": [
    "import numpy"
   ]
  },
  {
   "cell_type": "code",
   "execution_count": 35,
   "id": "a415e20d-cace-424d-a508-cd863df00a03",
   "metadata": {},
   "outputs": [
    {
     "name": "stdout",
     "output_type": "stream",
     "text": [
      "232310\n",
      "['\\n', ' ', '!', '\"', '&', \"'\", '(', ')', '*', ',', '-', '.', '0', '1', '2', '3', '4', '5', '6', '7', '8', '9', ':', ';', '?', 'A', 'B', 'C', 'D', 'E', 'F', 'G', 'H', 'I', 'J', 'K', 'L', 'M', 'N', 'O', 'P', 'Q', 'R', 'S', 'T', 'U', 'V', 'W', 'X', 'Y', 'Z', '[', ']', '_', 'a', 'b', 'c', 'd', 'e', 'f', 'g', 'h', 'i', 'j', 'k', 'l', 'm', 'n', 'o', 'p', 'q', 'r', 's', 't', 'u', 'v', 'w', 'x', 'y', 'z'] \n",
      " 80\n"
     ]
    }
   ],
   "source": [
    "with open(\"wizardOFoz.txt\",'r', encoding='utf-8') as f:\n",
    "    text = f.read()\n",
    "print(len(text))\n",
    "\n",
    "chars = sorted(set(text))\n",
    "print(chars,\"\\n\", len(chars))\n",
    "\n",
    "vocab_size = len(chars)"
   ]
  },
  {
   "cell_type": "markdown",
   "id": "5e06c156",
   "metadata": {},
   "source": [
    "# Character Tokenizers\n",
    " \n",
    "1.string_to_int and int_to_string dictionaries:\n",
    "\n",
    "string_to_int is a dictionary comprehension that iterates over each character ch in the chars variable and assigns an integer index i to each character. It effectively creates a mapping from characters to their corresponding integer indices.\n",
    "int_to_string is also a dictionary comprehension but does the reverse. It iterates over the same chars variable and assigns the character ch to the integer index i. It creates a mapping from integer indices to characters.\n",
    "encode function:\n",
    "\n",
    "2. encode is a lambda function that takes a string s as input.\n",
    "Inside the lambda function, it uses a list comprehension to iterate over each character c in the input string s.\n",
    "For each character, it looks up the corresponding integer index from the string_to_int dictionary and appends it to a list.\n",
    "The result is a list of integers representing the encoded form of the input string.\n",
    "decode function:\n",
    "\n",
    "3. decode is another lambda function that takes a list of integers l as input.\n",
    "Inside the lambda function, it uses a list comprehension to iterate over each integer i in the input list l.\n",
    "For each integer, it looks up the corresponding character from the int_to_string dictionary and appends it to a list.\n",
    "Finally, it joins the list of characters into a single string using the join method and returns the decoded string.\n"
   ]
  },
  {
   "cell_type": "code",
   "execution_count": 15,
   "id": "ca0f46fc",
   "metadata": {},
   "outputs": [
    {
     "name": "stdout",
     "output_type": "stream",
     "text": [
      "hello\n"
     ]
    }
   ],
   "source": [
    "string_to_int = {ch:i for i,ch in enumerate(chars)}\n",
    "int_to_string = {i:ch for i,ch in enumerate(chars)}\n",
    "encode = lambda s: [string_to_int[c] for c in s]\n",
    "decode = lambda l: ''.join([int_to_string[i] for i in l])\n",
    "\n",
    "encoded_str = encode('hello')\n",
    "decoded_str = decode(encoded_str)\n",
    "print(decoded_str)"
   ]
  },
  {
   "cell_type": "code",
   "execution_count": 21,
   "id": "4d6c469c-4b47-48f1-acd9-5f19b029c78b",
   "metadata": {},
   "outputs": [
    {
     "name": "stdout",
     "output_type": "stream",
     "text": [
      "tensor([ 1,  1, 28, 39, 42, 39, 44, 32, 49,  1, 25, 38, 28,  1, 44, 32, 29,  1,\n",
      "        47, 33, 50, 25, 42, 28,  1, 33, 38,  1, 39, 50,  0,  0,  1,  1, 26, 49,\n",
      "         0,  0,  1,  1, 36, 11,  1, 30, 42, 25, 38, 35,  1, 26, 25, 45, 37,  0,\n",
      "         0,  1,  1, 25, 45, 44, 32, 39, 42,  1, 39, 30,  1, 44, 32, 29,  1, 47,\n",
      "        33, 50, 25, 42, 28,  1, 39, 30,  1, 39, 50,  9,  1, 44, 32, 29,  1, 36,\n",
      "        25, 38, 28,  1, 39, 30,  1, 39, 50,  9])\n",
      "232310\n"
     ]
    }
   ],
   "source": [
    "data = torch.tensor(encode(text), dtype=torch.long) #torch.long is 64 bit int\n",
    "print(data[0:100])\n",
    "print(len(data))"
   ]
  },
  {
   "cell_type": "markdown",
   "id": "99902714",
   "metadata": {},
   "source": [
    "# Train-Test Split\n",
    "Splitting train-test data into 80:20 "
   ]
  },
  {
   "cell_type": "code",
   "execution_count": 23,
   "id": "b36decbc",
   "metadata": {},
   "outputs": [],
   "source": [
    "n = int(0.8*len(data))\n",
    "train_data = data[:n]\n",
    "val_data = data[n:]"
   ]
  },
  {
   "cell_type": "markdown",
   "id": "96bcf3ce",
   "metadata": {},
   "source": [
    "### Using batch training in the size of 4s'\n",
    "\n",
    "1. `block_size` and `batch_size` are variables that define the size of data blocks and the size of each batch, respectively.\n",
    "\n",
    "2. `x` and `y` are initialized by taking the first `block_size` elements from the `train_data` tensor and the corresponding elements shifted by 1 position to the right, effectively creating pairs of input sequences and target sequences.\n",
    "\n",
    "3. The `get_batch` function is defined to generate batches of data. It takes an argument `split` to determine whether to use the `train_data` or `val_data`.\n",
    "\n",
    "4. Inside the `get_batch` function:\n",
    "   - `ix` is generated as a random tensor of `batch_size` integers between 0 and `len(data) - block_size`, effectively selecting random starting positions for each batch in the data.\n",
    "   - The code then constructs input `x` and target `y` sequences by selecting blocks of data based on the random indices `ix`. These blocks are stacked into tensors using list comprehensions and `torch.stack`.\n",
    "   - The resulting `x` and `y` tensors are moved to the `device` (presumably a GPU) for accelerated computation.\n",
    "\n",
    "5. Finally, the `x` and `y` tensors for a training batch are obtained by calling `get_batch('train')`, and their shapes are printed.\n",
    "\n",
    "- `inputs: ...` displays the input tensor `x` and its shape.\n",
    "- `targets: ...` displays the target tensor `y` and its shape.\n",
    "\n",
    "The code is designed to facilitate training a neural network in batches, which is a common practice in deep learning to efficiently process large datasets. It ensures that each batch consists of sequences of `block_size` elements, which can be used for tasks like sequence modeling or recurrent neural networks (RNNs)."
   ]
  },
  {
   "cell_type": "code",
   "execution_count": 32,
   "id": "4afdcb09",
   "metadata": {},
   "outputs": [
    {
     "name": "stdout",
     "output_type": "stream",
     "text": [
      "tensor([157075,   5180,  47173,  83868])\n",
      "inputs:  tensor([[76, 54, 78,  1, 73, 61, 58,  1],\n",
      "        [ 1,  1,  1,  1,  1,  1,  1,  1],\n",
      "        [54, 57,  1, 65, 58, 54, 75, 58],\n",
      "        [68, 72, 73,  1, 69, 62, 56, 73]], device='cuda:0') \n",
      " torch.Size([4, 8])\n",
      "targets:  tensor([[54, 78,  1, 73, 61, 58,  1, 57],\n",
      "        [ 1,  1,  1,  1,  1,  1,  1,  1],\n",
      "        [57,  1, 65, 58, 54, 75, 58, 72],\n",
      "        [72, 73,  1, 69, 62, 56, 73, 74]], device='cuda:0') \n",
      " torch.Size([4, 8])\n"
     ]
    }
   ],
   "source": [
    "block_size = 8\n",
    "batch_size = 4\n",
    "\n",
    "x = train_data[:block_size]\n",
    "y = train_data[1:block_size+1]\n",
    "\n",
    "def get_batch(split):\n",
    "    data = train_data if split == 'train' else val_data\n",
    "    ix = torch.randint(len(data) - block_size, (batch_size,))\n",
    "    print(ix)\n",
    "    x = torch.stack([data[i : i+block_size] for i in ix])\n",
    "    y = torch.stack([data[i+1 : i+block_size+1] for i in ix])\n",
    "\n",
    "    x,y = x.to(device), y.to(device) #pushing data to the GPU, to be processed on GPU\n",
    "\n",
    "    return x,y\n",
    "x,y = get_batch('train') \n",
    "print('inputs: ' , x,'\\n', x.shape)\n",
    "print('targets: ' , y, '\\n' ,y.shape)\n",
    "\n"
   ]
  },
  {
   "cell_type": "code",
   "execution_count": 44,
   "id": "2833b3ae",
   "metadata": {},
   "outputs": [
    {
     "name": "stdout",
     "output_type": "stream",
     "text": [
      "\n",
      "6\n"
     ]
    }
   ],
   "source": [
    "class BigarmLanguageModel(torch.nn.Module):\n",
    "    \"\"\"\n",
    "    Initialize a Bigram Language Model.\n",
    "\n",
    "    Args:\n",
    "    - vocab_size (int): The size of the vocabulary, i.e., the number of unique tokens in the language.\n",
    "    Returns:\n",
    "    - None\n",
    "\n",
    "    \"\"\"\n",
    "    \n",
    "    def __init__(self, vocab_size):\n",
    "        super().__init__()\n",
    "        self.token_embedding_table = torch.nn.Embedding(vocab_size, vocab_size)\n",
    "\n",
    "\n",
    "    def forward(self, index, targets=None):\n",
    "        \"\"\"\n",
    "        Forward pass of the Bigram Language Model.\n",
    "\n",
    "        Args:\n",
    "        - index (torch.Tensor): Input tensor representing token indices in the current context.\n",
    "        - targets (torch.Tensor): Target tensor representing true token indices (for training) or None (for inference).\n",
    "\n",
    "        Returns:\n",
    "        - logits (torch.Tensor): Tensor of model predictions (logits) for token indices.\n",
    "        - loss (torch.Tensor or None): If targets are provided, the computed cross-entropy loss; otherwise, None.\n",
    "        \n",
    "        \"\"\"\n",
    "\n",
    "        logits = self.token_embedding_table(index)\n",
    "\n",
    "        if targets is None:\n",
    "            loss = None\n",
    "        else:\n",
    "            B, T, C = logits.shape   \n",
    "            logits = logits.view(B*T, C)\n",
    "            loss = F.cross_entropy(logits, targets)\n",
    "\n",
    "        return logits, loss\n",
    "\n",
    "\n",
    "\n",
    "    def generate(self, index, max_new_tokens):\n",
    "        \"\"\"\n",
    "        Generate new tokens using the Bigram Language Model.\n",
    "\n",
    "        Args:\n",
    "        - index (torch.Tensor): Input tensor representing token indices in the current context.\n",
    "        - max_new_tokens (int): The maximum number of new tokens to generate.\n",
    "\n",
    "        Returns:\n",
    "        - generated_tokens (torch.Tensor): Tensor representing the generated sequence of token indices.\n",
    "        \"\"\"\n",
    "\n",
    "        #Index is (B,T) array of indicies in the current context\n",
    "        for _ in range(max_new_tokens):\n",
    "            #get the predictions\n",
    "            logits, loss = self.forward(index)\n",
    "\n",
    "            #focus only on the last step\n",
    "            logits = logits[:,-1,:] #becomes (B,C)\n",
    "\n",
    "            #apply softmax to get probabilities\n",
    "            probs = F.softmax(logits, dim=-1) #(B,C)\n",
    "\n",
    "            #sample from the distribution\n",
    "            index_next  = torch.multinomial(probs, num_samples=1) # (B,1)\n",
    "\n",
    "            #append sampled index to running sequence\n",
    "            index = torch.cat((index, index_next), dim=1) #(B,T-1)\n",
    "\n",
    "            return index\n",
    "\n",
    "model = BigarmLanguageModel(vocab_size)\n",
    "m = model.to(device)\n",
    "\n",
    "context = torch.zeros((1,1), dtype=torch.long, device=device)\n",
    "generated_chars = decode(m.generate(context, max_new_tokens=500)[0].tolist())\n",
    "print(generated_chars)"
   ]
  },
  {
   "cell_type": "code",
   "execution_count": null,
   "id": "a7eb96da",
   "metadata": {},
   "outputs": [],
   "source": []
  }
 ],
 "metadata": {
  "kernelspec": {
   "display_name": "cuda",
   "language": "python",
   "name": "python3"
  },
  "language_info": {
   "codemirror_mode": {
    "name": "ipython",
    "version": 3
   },
   "file_extension": ".py",
   "mimetype": "text/x-python",
   "name": "python",
   "nbconvert_exporter": "python",
   "pygments_lexer": "ipython3",
   "version": "3.11.2"
  }
 },
 "nbformat": 4,
 "nbformat_minor": 5
}
